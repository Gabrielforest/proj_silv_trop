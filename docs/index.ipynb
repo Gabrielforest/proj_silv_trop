{
  "cells": [
    {
      "cell_type": "raw",
      "metadata": {},
      "source": [
        "---\n",
        "project:\n",
        "  type: website\n",
        "  output-dir: docs\n",
        "\n",
        "website:\n",
        "  title: \"Pinhão, mel docinho\"\n",
        "  navbar: \n",
        "    left: \n",
        "      - href: index.qmd\n",
        "        text: Início\n",
        "\n",
        "format: \n",
        "  html:\n",
        "    theme: minty\n",
        "    toc: true\n",
        "---"
      ],
      "id": "bbe1c567"
    },
    {
      "cell_type": "markdown",
      "metadata": {},
      "source": [
        "```{css, echo = FALSE}\n",
        ".justify {\n",
        "  text-align: justify \n",
        "}\n",
        "```\n",
        "\n",
        "\n",
        "\n",
        "\n",
        "::: {.justify}\n",
        "\n",
        "<center>\n",
        "\n",
        "![](https://github.com/Gabrielforest/proj_sementes/blob/master/logo/Restaura+.png?raw=true)\n",
        "\n",
        "</center>\n",
        "\n",
        "## Quem somos\n",
        "\n",
        "Olá!\n",
        "\n",
        "\\  Esta página foi desenvolvida como meio de divulgação do projeto de restauração via semeadura direta de uma área referente ao bioma Amazônico, na cidade de Altamira - PA. Sendo o presente estudo proposto com base nas demandas referentes ao edital de 2021 da fundação de apoio a pesquisa em sementes e restauração de áreas degradadas – SEMAD.\n",
        "\n",
        "\\  Desse modo, o presente projeto foi elaborado em colaboração entre os engenheiros da empresa Restaura+: Bruno Gonçalves, Gabriel F. Pereira, Gabriel Ribeiro, Rafael Adão e Leonardo Kobayashi; visando disseminar informações sobre as espécies.\n",
        "\n",
        "## Descrição do projeto\n",
        "\n",
        "\\  A região Sul do Brasil é uma área de grande importância para a biodiversidade, uma vez que abriga biomas extremamente relevantes e ameaçados, como a Mata Atlântica e o Pampa. Diversas instituições têm se dedicado a projetos de conservação desses ecossistemas, com o objetivo de minimizar os impactos ambientais e preservar a biodiversidade.\n",
        "\n",
        "\\  Considerando que grande parte dos remanescentes florestais está em mãos privadas na região Sul, é fundamental a adoção de medidas para a restauração de áreas degradadas com espécies vegetais nativas. Essa estratégia pode contribuir para aumentar a conectividade da paisagem, favorecendo a manutenção dos processos ecológicos e a proteção de espécies a longo prazo. Além disso, a reserva legal produtiva é uma forma de assegurar a preservação dessas áreas e garantir que possam ser utilizadas para a restauração e recuperação de áreas degradadas, contribuindo para a ampliação da representatividade desses importantes biomas brasileiros na região Sul.\n",
        "\n",
        "## Produtos\n",
        "\n",
        "text\n",
        "\n",
        ":::"
      ],
      "id": "fd1eb7b5"
    }
  ],
  "metadata": {
    "kernelspec": {
      "display_name": "Python 3",
      "language": "python",
      "name": "python3"
    }
  },
  "nbformat": 4,
  "nbformat_minor": 5
}